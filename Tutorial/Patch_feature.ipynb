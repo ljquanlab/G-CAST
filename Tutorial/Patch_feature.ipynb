{
 "cells": [
  {
   "cell_type": "code",
   "execution_count": 1,
   "id": "9cfc3a49dcc82b59",
   "metadata": {},
   "outputs": [
    {
     "name": "stdout",
     "output_type": "stream",
     "text": [
      "The history saving thread hit an unexpected error (DatabaseError('database disk image is malformed')).History will not be written to the database.\n"
     ]
    }
   ],
   "source": [
    "import warnings\n",
    "warnings.filterwarnings('ignore')\n",
    "\n",
    "import os\n",
    "from img import *\n",
    "import scanpy as sc\n"
   ]
  },
  {
   "cell_type": "markdown",
   "id": "f7d85cd8724376ae",
   "metadata": {},
   "source": [
    "## Extract Histological patches"
   ]
  },
  {
   "cell_type": "code",
   "execution_count": 2,
   "id": "f7d1b6672519a33a",
   "metadata": {},
   "outputs": [],
   "source": [
    "data_path =  \"../test/Dataset/DLPFC\"\n",
    "data_name = \"151507\"\n",
    "n_cluster = 7\n",
    "slide_path = os.path.join(data_path, data_name)"
   ]
  },
  {
   "cell_type": "code",
   "execution_count": 3,
   "id": "81860eeec9e68800",
   "metadata": {},
   "outputs": [
    {
     "name": "stdout",
     "output_type": "stream",
     "text": [
      "spot_diameter_fullres: 96.37511184430237\n",
      "tissue_hires_scalef: 0.150015\n",
      "fiducial_diameter_fullres 144.56266776645353\n",
      "tissue_lowres_scalef 0.045004502\n",
      "151507 patch finished!\n"
     ]
    }
   ],
   "source": [
    "patch_size=4*load_diameter_fullres(slide_path)\n",
    "adata = sc.read_visium(slide_path)\n",
    "generate_image_embedding_color(adata, slide_path, slide=data_name, patch_size=patch_size)"
   ]
  },
  {
   "cell_type": "markdown",
   "id": "94b95ed46179a5b0",
   "metadata": {},
   "source": [
    "## Train DINO for Histological patch features"
   ]
  },
  {
   "cell_type": "code",
   "execution_count": 4,
   "id": "392a82a7-10ce-48c7-b5f1-61684aade484",
   "metadata": {},
   "outputs": [],
   "source": [
    "import os \n",
    "os.chdir(\"../test\")"
   ]
  },
  {
   "cell_type": "code",
   "execution_count": 5,
   "id": "f438f4e693411c46",
   "metadata": {},
   "outputs": [
    {
     "name": "stdout",
     "output_type": "stream",
     "text": [
      "Processing 151507 Images...\n",
      "Start DINO Training\n"
     ]
    },
    {
     "name": "stderr",
     "output_type": "stream",
     "text": [
      "Failed to detect the name of this notebook, you can set it manually with the WANDB_NOTEBOOK_NAME environment variable to enable code saving.\n",
      "\u001b[34m\u001b[1mwandb\u001b[0m: Using wandb-core as the SDK backend.  Please refer to https://wandb.me/wandb-core for more information.\n"
     ]
    },
    {
     "data": {
      "text/html": [
       "Tracking run with wandb version 0.19.8"
      ],
      "text/plain": [
       "<IPython.core.display.HTML object>"
      ]
     },
     "metadata": {},
     "output_type": "display_data"
    },
    {
     "data": {
      "text/html": [
       "W&B syncing is set to <code>`offline`<code> in this directory.  <br>Run <code>`wandb online`<code> or set <code>WANDB_MODE=online<code> to enable cloud syncing."
      ],
      "text/plain": [
       "<IPython.core.display.HTML object>"
      ]
     },
     "metadata": {},
     "output_type": "display_data"
    },
    {
     "name": "stderr",
     "output_type": "stream",
     "text": [
      "Epoch 1: 100%|██████████| 133/133 [07:55<00:00,  3.58s/it]\n",
      "Epoch 2: 100%|██████████| 133/133 [07:07<00:00,  3.21s/it]\n",
      "Epoch 3: 100%|██████████| 133/133 [06:17<00:00,  2.84s/it]\n",
      "Epoch 4: 100%|██████████| 133/133 [06:14<00:00,  2.82s/it]\n",
      "Epoch 5: 100%|██████████| 133/133 [06:22<00:00,  2.88s/it]\n",
      "Epoch 6: 100%|██████████| 133/133 [06:29<00:00,  2.93s/it]\n",
      "Epoch 7: 100%|██████████| 133/133 [06:34<00:00,  2.96s/it]\n",
      "Epoch 8: 100%|██████████| 133/133 [06:21<00:00,  2.86s/it]\n",
      "Epoch 9: 100%|██████████| 133/133 [07:25<00:00,  3.35s/it]\n",
      "Epoch 10: 100%|██████████| 133/133 [13:52<00:00,  6.26s/it]\n",
      "Epoch 11: 100%|██████████| 133/133 [18:40<00:00,  8.42s/it]\n",
      "Epoch 12: 100%|██████████| 133/133 [17:31<00:00,  7.90s/it]\n",
      "Epoch 13: 100%|██████████| 133/133 [13:38<00:00,  6.15s/it]\n",
      "Epoch 14: 100%|██████████| 133/133 [10:45<00:00,  4.85s/it]\n",
      "Epoch 15: 100%|██████████| 133/133 [13:56<00:00,  6.29s/it]\n",
      "Epoch 18: 100%|██████████| 133/133 [11:25<00:00,  5.15s/it]\n",
      "Epoch 19: 100%|██████████| 133/133 [10:49<00:00,  4.89s/it]\n",
      "Epoch 20: 100%|██████████| 133/133 [14:04<00:00,  6.35s/it]\n",
      "Epoch 21: 100%|██████████| 133/133 [14:27<00:00,  6.52s/it]\n",
      "Epoch 22: 100%|██████████| 133/133 [10:01<00:00,  4.52s/it]\n",
      "Epoch 23: 100%|██████████| 133/133 [11:50<00:00,  5.34s/it]\n",
      "Epoch 24: 100%|██████████| 133/133 [11:08<00:00,  5.03s/it]\n",
      "Epoch 25: 100%|██████████| 133/133 [08:27<00:00,  3.82s/it]\n",
      "Epoch 26: 100%|██████████| 133/133 [06:45<00:00,  3.05s/it]\n",
      "Epoch 27: 100%|██████████| 133/133 [06:42<00:00,  3.03s/it]\n",
      "Epoch 28: 100%|██████████| 133/133 [12:48<00:00,  5.78s/it]\n",
      "Epoch 29: 100%|██████████| 133/133 [10:59<00:00,  4.96s/it]\n",
      "Epoch 30: 100%|██████████| 133/133 [09:57<00:00,  4.49s/it]\n",
      "Epoch 31: 100%|██████████| 133/133 [08:19<00:00,  3.75s/it]\n",
      "Epoch 32: 100%|██████████| 133/133 [09:17<00:00,  4.19s/it]\n",
      "Epoch 33: 100%|██████████| 133/133 [09:43<00:00,  4.39s/it]\n",
      "Epoch 34: 100%|██████████| 133/133 [07:12<00:00,  3.25s/it]\n",
      "Epoch 35: 100%|██████████| 133/133 [07:37<00:00,  3.44s/it]\n",
      "Epoch 36: 100%|██████████| 133/133 [06:42<00:00,  3.03s/it]\n",
      "Epoch 37: 100%|██████████| 133/133 [07:18<00:00,  3.30s/it]\n",
      "Epoch 38: 100%|██████████| 133/133 [08:24<00:00,  3.79s/it]\n",
      "Epoch 39: 100%|██████████| 133/133 [14:29<00:00,  6.54s/it]\n",
      "Epoch 40: 100%|██████████| 133/133 [18:03<00:00,  8.15s/it]\n",
      "Epoch 41: 100%|██████████| 133/133 [12:37<00:00,  5.70s/it]\n",
      "Epoch 42: 100%|██████████| 133/133 [13:00<00:00,  5.87s/it]\n",
      "Epoch 43: 100%|██████████| 133/133 [14:20<00:00,  6.47s/it]\n",
      "Epoch 44: 100%|██████████| 133/133 [13:56<00:00,  6.29s/it]\n",
      "Epoch 45: 100%|██████████| 133/133 [08:45<00:00,  3.95s/it]\n",
      "Epoch 46: 100%|██████████| 133/133 [09:05<00:00,  4.10s/it]\n",
      "Epoch 47: 100%|██████████| 133/133 [10:23<00:00,  4.69s/it]\n",
      "Epoch 48: 100%|██████████| 133/133 [12:35<00:00,  5.68s/it]\n",
      "Epoch 49: 100%|██████████| 133/133 [13:35<00:00,  6.13s/it]\n",
      "Epoch 50: 100%|██████████| 133/133 [12:01<00:00,  5.43s/it]\n"
     ]
    },
    {
     "name": "stdout",
     "output_type": "stream",
     "text": [
      "Saving model and embeddings\n"
     ]
    },
    {
     "name": "stderr",
     "output_type": "stream",
     "text": [
      "Eval: 100%|██████████| 4226/4226 [01:16<00:00, 54.94it/s]\n"
     ]
    }
   ],
   "source": [
    "print(f\"Processing {data_name} Images...\")\n",
    "\n",
    "embeddings = process_images(dataset_name=\"DLPFC\", slide=data_name, epoch_num=50,\n",
    "                     model_path=\"./CLIP/Mouse\",\n",
    "                     model_name=f\"{data_name}.pth\", embed_name=f\"embeddings.npy\")"
   ]
  },
  {
   "cell_type": "code",
   "execution_count": null,
   "id": "4015466761828ab1",
   "metadata": {},
   "outputs": [],
   "source": []
  }
 ],
 "metadata": {
  "kernelspec": {
   "display_name": "myx",
   "language": "python",
   "name": "myx"
  },
  "language_info": {
   "codemirror_mode": {
    "name": "ipython",
    "version": 3
   },
   "file_extension": ".py",
   "mimetype": "text/x-python",
   "name": "python",
   "nbconvert_exporter": "python",
   "pygments_lexer": "ipython3",
   "version": "3.10.13"
  }
 },
 "nbformat": 4,
 "nbformat_minor": 5
}
